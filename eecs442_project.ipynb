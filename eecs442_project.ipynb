{
  "nbformat": 4,
  "nbformat_minor": 0,
  "metadata": {
    "colab": {
      "provenance": [],
      "collapsed_sections": [
        "4PiAxIJp1reB",
        "MPjtaORD1wRU",
        "WpXlpeIY10TD",
        "aRbAWC0A4lWF"
      ]
    },
    "kernelspec": {
      "name": "python3",
      "display_name": "Python 3"
    },
    "language_info": {
      "name": "python"
    }
  },
  "cells": [
    {
      "cell_type": "code",
      "execution_count": null,
      "metadata": {
        "id": "phgoVxggTO0H"
      },
      "outputs": [],
      "source": [
        "import pickle\n",
        "import numpy as np\n",
        "import matplotlib.pyplot as plt\n",
        "import os\n",
        "import copy\n",
        "from tqdm import tqdm\n",
        "  \n",
        "import torch\n",
        "import torchvision\n",
        "from torchvision import datasets, models, transforms\n",
        "import torch.nn as nn\n",
        "import torch.optim as optim\n",
        "\n",
        "print(\"PyTorch Version: \",torch.__version__)\n",
        "print(\"Torchvision Version: \",torchvision.__version__)\n",
        "# Detect if we have a GPU available\n",
        "device = torch.device(\"cuda:0\" if torch.cuda.is_available() else \"cpu\")\n",
        "if torch.cuda.is_available():\n",
        "    print(\"Using the GPU!\")\n",
        "else:\n",
        "    print(\"WARNING: Could not find GPU! Using CPU only. If you want to enable GPU, please to go Edit > Notebook Settings > Hardware Accelerator and select GPU.\")\n",
        "\n",
        "data_dir = \"./data_miniplaces_modified\""
      ]
    },
    {
      "cell_type": "markdown",
      "source": [
        "## VGG Step 1 Build dataloaders"
      ],
      "metadata": {
        "id": "4PiAxIJp1reB"
      }
    },
    {
      "cell_type": "code",
      "source": [],
      "metadata": {
        "id": "NL5hORaszLN3"
      },
      "execution_count": null,
      "outputs": []
    },
    {
      "cell_type": "markdown",
      "source": [
        "## VGG Step 2 Build MiniVGG and MiniVGG-BN"
      ],
      "metadata": {
        "id": "MPjtaORD1wRU"
      }
    },
    {
      "cell_type": "code",
      "source": [],
      "metadata": {
        "id": "0B14bS5h1ytj"
      },
      "execution_count": null,
      "outputs": []
    },
    {
      "cell_type": "markdown",
      "source": [
        "## VGG Step 3 Build training/validation loops"
      ],
      "metadata": {
        "id": "WpXlpeIY10TD"
      }
    },
    {
      "cell_type": "code",
      "source": [],
      "metadata": {
        "id": "KEFOBUPc12QS"
      },
      "execution_count": null,
      "outputs": []
    },
    {
      "cell_type": "markdown",
      "source": [
        "## VGG Step 4 Measure top1 and top5 accuracies of MiniVGG and MiniVGG-BN"
      ],
      "metadata": {
        "id": "aRbAWC0A4lWF"
      }
    },
    {
      "cell_type": "code",
      "source": [],
      "metadata": {
        "id": "H7zGtXdn4sIR"
      },
      "execution_count": null,
      "outputs": []
    }
  ]
}